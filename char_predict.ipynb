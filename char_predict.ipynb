{
 "cells": [
  {
   "cell_type": "code",
   "execution_count": 1,
   "metadata": {},
   "outputs": [
    {
     "name": "stderr",
     "output_type": "stream",
     "text": [
      "Using TensorFlow backend.\n"
     ]
    }
   ],
   "source": [
    "import numpy as np\n",
    "np.random.seed(42)\n",
    "import tensorflow as tf\n",
    "tf.set_random_seed(42)\n",
    "from keras.models import Sequential, load_model\n",
    "from keras.layers import Dense, Activation\n",
    "from keras.layers import LSTM, Dropout\n",
    "from keras.layers import TimeDistributed\n",
    "from keras.layers.core import Dense, Activation, Dropout, RepeatVector\n",
    "from keras.optimizers import RMSprop\n",
    "import matplotlib.pyplot as plt\n",
    "import pickle\n",
    "import sys\n",
    "import heapq\n",
    "import seaborn as sns"
   ]
  },
  {
   "cell_type": "code",
   "execution_count": 2,
   "metadata": {},
   "outputs": [],
   "source": [
    "# load ascii text and covert to lowercase\n",
    "path = 'nietzsche.txt'\n",
    "text = open(path).read().lower()\n",
    "\n",
    "# create mapping of unique chars to integers and integers to char\n",
    "chars = sorted(list(set(text)))\n",
    "char_indices = dict((c, i) for i, c in enumerate(chars))\n",
    "indices_char = dict((i, c) for i, c in enumerate(chars))\n",
    "\n",
    "# cut the corpus into chunks of 40 characters, spacing the sequences by 3 characters : sentences\n",
    "# we will store the next character (the one we need to predict) for every sequence: : next_chars\n",
    "SEQUENCE_LENGTH = 40\n",
    "step = 3\n",
    "sentences = []\n",
    "next_chars = []\n",
    "for i in range(0, len(text) - SEQUENCE_LENGTH, step):\n",
    "    sentences.append(text[i: i + SEQUENCE_LENGTH])\n",
    "    next_chars.append(text[i + SEQUENCE_LENGTH])\n",
    "\n",
    "\n",
    "# generating our features and labels. We will use the previously generated sequences and characters \n",
    "# that need to be predicted to create one-hot encoded vectors using the char_indices map\n",
    "X = np.zeros((len(sentences), SEQUENCE_LENGTH, len(chars)), dtype=np.bool)\n",
    "y = np.zeros((len(sentences), len(chars)), dtype=np.bool)\n",
    "for i, sentence in enumerate(sentences):\n",
    "    for t, char in enumerate(sentence):\n",
    "        X[i, t, char_indices[char]] = 1\n",
    "    y[i, char_indices[next_chars[i]]] = 1"
   ]
  },
  {
   "cell_type": "code",
   "execution_count": 5,
   "metadata": {},
   "outputs": [
    {
     "data": {
      "text/plain": [
       "(200285, 40, 57)"
      ]
     },
     "execution_count": 5,
     "metadata": {},
     "output_type": "execute_result"
    }
   ],
   "source": [
    "# X is the one hot encoded input with size (200285, 40, 57)\n",
    "X.shape"
   ]
  },
  {
   "cell_type": "code",
   "execution_count": 6,
   "metadata": {},
   "outputs": [
    {
     "data": {
      "text/plain": [
       "(200285, 57)"
      ]
     },
     "execution_count": 6,
     "metadata": {},
     "output_type": "execute_result"
    }
   ],
   "source": [
    "# y is the one hot encoded label with size (200285, 57)\n",
    "y.shape"
   ]
  },
  {
   "cell_type": "code",
   "execution_count": 7,
   "metadata": {
    "scrolled": true
   },
   "outputs": [
    {
     "name": "stdout",
     "output_type": "stream",
     "text": [
      "WARNING:tensorflow:From /home/piyush/anaconda3/envs/tensorflow/lib/python3.6/site-packages/tensorflow/python/framework/op_def_library.py:263: colocate_with (from tensorflow.python.framework.ops) is deprecated and will be removed in a future version.\n",
      "Instructions for updating:\n",
      "Colocations handled automatically by placer.\n"
     ]
    }
   ],
   "source": [
    "# model we’re going to train is pretty straight forward. Single LSTM layer with 128 neurons which accepts input of \n",
    "# shape (40 — the length of a sequence, 57 — the number of unique characters in our dataset). A fully connected \n",
    "# layer (for our output) is added after that. It has 57 neurons and softmax for activation function:\n",
    "\n",
    "model = Sequential()\n",
    "model.add(LSTM(128, input_shape=(SEQUENCE_LENGTH, len(chars))))\n",
    "model.add(Dense(len(chars)))\n",
    "model.add(Activation('softmax'))"
   ]
  },
  {
   "cell_type": "code",
   "execution_count": 8,
   "metadata": {},
   "outputs": [
    {
     "name": "stdout",
     "output_type": "stream",
     "text": [
      "WARNING:tensorflow:From /home/piyush/anaconda3/envs/tensorflow/lib/python3.6/site-packages/tensorflow/python/ops/math_ops.py:3066: to_int32 (from tensorflow.python.ops.math_ops) is deprecated and will be removed in a future version.\n",
      "Instructions for updating:\n",
      "Use tf.cast instead.\n",
      "Train on 190270 samples, validate on 10015 samples\n",
      "Epoch 1/20\n",
      "190270/190270 [==============================] - 482s 3ms/step - loss: 1.9880 - acc: 0.4188 - val_loss: 1.6830 - val_acc: 0.4853\n",
      "Epoch 2/20\n",
      "190270/190270 [==============================] - 468s 2ms/step - loss: 1.6454 - acc: 0.5116 - val_loss: 1.5971 - val_acc: 0.5172\n",
      "Epoch 3/20\n",
      "190270/190270 [==============================] - 472s 2ms/step - loss: 1.5536 - acc: 0.5374 - val_loss: 1.5501 - val_acc: 0.5306\n",
      "Epoch 4/20\n",
      "190270/190270 [==============================] - 454s 2ms/step - loss: 1.5054 - acc: 0.5500 - val_loss: 1.5373 - val_acc: 0.5416\n",
      "Epoch 5/20\n",
      "190270/190270 [==============================] - 328s 2ms/step - loss: 1.4764 - acc: 0.5577 - val_loss: 1.5227 - val_acc: 0.5457\n",
      "Epoch 6/20\n",
      "190270/190270 [==============================] - 302s 2ms/step - loss: 1.4530 - acc: 0.5626 - val_loss: 1.5112 - val_acc: 0.5471\n",
      "Epoch 7/20\n",
      "190270/190270 [==============================] - 262s 1ms/step - loss: 1.4377 - acc: 0.5678 - val_loss: 1.5130 - val_acc: 0.5462\n",
      "Epoch 8/20\n",
      "190270/190270 [==============================] - 338s 2ms/step - loss: 1.4237 - acc: 0.5715 - val_loss: 1.5094 - val_acc: 0.5534\n",
      "Epoch 9/20\n",
      "190270/190270 [==============================] - 385s 2ms/step - loss: 1.4119 - acc: 0.5746 - val_loss: 1.5069 - val_acc: 0.5538\n",
      "Epoch 10/20\n",
      "190270/190270 [==============================] - 392s 2ms/step - loss: 1.4000 - acc: 0.5777 - val_loss: 1.4864 - val_acc: 0.5549\n",
      "Epoch 11/20\n",
      "190270/190270 [==============================] - 398s 2ms/step - loss: 1.3926 - acc: 0.5787 - val_loss: 1.4867 - val_acc: 0.5584\n",
      "Epoch 12/20\n",
      "190270/190270 [==============================] - 403s 2ms/step - loss: 1.3855 - acc: 0.5817 - val_loss: 1.4883 - val_acc: 0.5592\n",
      "Epoch 13/20\n",
      "190270/190270 [==============================] - 400s 2ms/step - loss: 1.3770 - acc: 0.5831 - val_loss: 1.4921 - val_acc: 0.5593\n",
      "Epoch 14/20\n",
      "190270/190270 [==============================] - 404s 2ms/step - loss: 1.3724 - acc: 0.5840 - val_loss: 1.4867 - val_acc: 0.5606\n",
      "Epoch 15/20\n",
      "190270/190270 [==============================] - 408s 2ms/step - loss: 1.3665 - acc: 0.5866 - val_loss: 1.4898 - val_acc: 0.5570\n",
      "Epoch 16/20\n",
      "190270/190270 [==============================] - 429s 2ms/step - loss: 1.3608 - acc: 0.5878 - val_loss: 1.4920 - val_acc: 0.5588\n",
      "Epoch 17/20\n",
      "190270/190270 [==============================] - 341s 2ms/step - loss: 1.3550 - acc: 0.5885 - val_loss: 1.4903 - val_acc: 0.5589\n",
      "Epoch 18/20\n",
      "190270/190270 [==============================] - 347s 2ms/step - loss: 1.3513 - acc: 0.5903 - val_loss: 1.5023 - val_acc: 0.5498\n",
      "Epoch 19/20\n",
      "190270/190270 [==============================] - 427s 2ms/step - loss: 1.3484 - acc: 0.5892 - val_loss: 1.4978 - val_acc: 0.5550\n",
      "Epoch 20/20\n",
      "190270/190270 [==============================] - 507s 3ms/step - loss: 1.3441 - acc: 0.5910 - val_loss: 1.5200 - val_acc: 0.5567\n"
     ]
    }
   ],
   "source": [
    "# model is trained for 20 epochs using RMSProp optimizer and uses 5% of the data for validation:\n",
    "optimizer = RMSprop(lr=0.01)\n",
    "model.compile(loss='categorical_crossentropy', optimizer=optimizer, metrics=['accuracy'])\n",
    "history = model.fit(X, y, validation_split=0.05, batch_size=128, epochs=20, shuffle=True).history"
   ]
  },
  {
   "cell_type": "code",
   "execution_count": 9,
   "metadata": {},
   "outputs": [],
   "source": [
    "# It took a lot of time to train our model. Let’s save our progress and it can be used for test or predict by \n",
    "# just loding it from the saved loaction, no need to train the model everytime in order to use it.\n",
    "model.save('save_models/keras_model_nie.h5')\n",
    "pickle.dump(history, open(\"history.p\", \"wb\"))\n",
    "\n",
    "# load it back\n",
    "model = load_model('save_models/keras_model_nie.h5')\n",
    "history = pickle.load(open(\"history.p\", \"rb\"))"
   ]
  },
  {
   "cell_type": "code",
   "execution_count": 10,
   "metadata": {},
   "outputs": [
    {
     "data": {
      "image/png": "[encoded data removed]",
      "text/plain": [
       "<Figure size 432x288 with 1 Axes>"
      ]
     },
     "metadata": {
      "needs_background": "light"
     },
     "output_type": "display_data"
    }
   ],
   "source": [
    "# Evaluation accuracy\n",
    "plt.plot(history['acc'])\n",
    "plt.plot(history['val_acc'])\n",
    "plt.title('model accuracy')\n",
    "plt.ylabel('accuracy')\n",
    "plt.xlabel('epoch')\n",
    "_=plt.legend(['train', 'test'], loc='upper left')"
   ]
  },
  {
   "cell_type": "code",
   "execution_count": 11,
   "metadata": {},
   "outputs": [
    {
     "data": {
      "image/png": "[encoded data removed]",
      "text/plain": [
       "<Figure size 432x288 with 1 Axes>"
      ]
     },
     "metadata": {
      "needs_background": "light"
     },
     "output_type": "display_data"
    }
   ],
   "source": [
    "# plot of loss\n",
    "plt.plot(history['loss'])\n",
    "plt.plot(history['val_loss'])\n",
    "plt.title('model loss')\n",
    "plt.ylabel('loss')\n",
    "plt.xlabel('epoch')\n",
    "_=plt.legend(['train', 'test'], loc='upper left')"
   ]
  },
  {
   "cell_type": "code",
   "execution_count": 14,
   "metadata": {},
   "outputs": [],
   "source": [
    "# we need some helper functions. Let’s start by preparing our input text:\n",
    "# our sequences must be 40 characters long. So we make a tensor with shape (1, 40, 57)\n",
    "def prepare_input(text):\n",
    "    x = np.zeros((1, SEQUENCE_LENGTH, len(chars)))\n",
    "    for t, char in enumerate(text):\n",
    "        x[0, t, char_indices[char]] = 1.\n",
    "        \n",
    "    return x\n",
    "\n",
    "# sample function allows us to ask our model what are the next top n most probable characters.\n",
    "def sample(preds, top_n=3):\n",
    "    preds = np.asarray(preds).astype('float64')\n",
    "    preds = np.log(preds)\n",
    "    exp_preds = np.exp(preds)\n",
    "    preds = exp_preds / np.sum(exp_preds)\n",
    "    \n",
    "    return heapq.nlargest(top_n, range(len(preds)), preds.take)\n",
    "\n",
    "# This function predicts next character until space is predicted\n",
    "# It does so by repeatedly preparing input, asking our model for predictions and sampling from them.\n",
    "def predict_completion(text):\n",
    "    original_text = text\n",
    "    generated = text\n",
    "    completion = ''\n",
    "    while True:\n",
    "        x = prepare_input(text)\n",
    "        preds = model.predict(x, verbose=0)[0]\n",
    "        next_index = sample(preds, top_n=1)[0]\n",
    "        next_char = indices_char[next_index]\n",
    "        text = text[1:] + next_char\n",
    "        completion += next_char\n",
    "        \n",
    "        if len(original_text + completion) + 2 > len(original_text) and next_char == ' ':\n",
    "            return completion\n",
    "\n",
    "# predict_completions wraps everything and allow us to predict multiple completions.\n",
    "# it predicts the very first character it shelf without calling the function predict_completion(as this function \n",
    "# will terminates once encounter space), from second character it calls predict_completion.\n",
    "def predict_completions(text, n=3):\n",
    "    x = prepare_input(text)\n",
    "    preds = model.predict(x, verbose=0)[0]\n",
    "    next_indices = sample(preds, n)\n",
    "    return [indices_char[idx] + predict_completion(text[1:] + indices_char[idx]) for idx in next_indices]"
   ]
  },
  {
   "cell_type": "code",
   "execution_count": 20,
   "metadata": {},
   "outputs": [
    {
     "name": "stdout",
     "output_type": "stream",
     "text": [
      "it is not a lack of love, but a lack of \n",
      "['the ', 'a ', 'such ', 'man ', 'his ']\n",
      "\n",
      "\n",
      "that which does not kill us makes us str\n",
      "['uct ', 'ength ', 'iving ', 'ange ', 'onger ']\n",
      "\n",
      "\n",
      "i'm not upset that you lied to me, i'm u\n",
      "['nderstand ', 's ', 'pon ', 'tting ', 'ltimate ']\n",
      "\n",
      "\n",
      "and those who were seen dancing were tho\n",
      "['se ', 'ught ', 'rought ', 'ever ', 'ne ']\n",
      "\n",
      "\n",
      "it is hard enough to remember my opinion\n",
      "[' of ', ', ', '. ', '--and ', '\\nand ']\n",
      "\n",
      "\n"
     ]
    }
   ],
   "source": [
    "# text from some other book of the same writer\n",
    "quotes = [\n",
    "    \"It is not a lack of love, but a lack of friendship that makes unhappy marriages.\",\n",
    "    \"That which does not kill us makes us stronger.\",\n",
    "    \"I'm not upset that you lied to me, I'm upset that from now on I can't believe you.\",\n",
    "    \"And those who were seen dancing were thought to be insane by those who could not hear the music.\",\n",
    "    \"It is hard enough to remember my opinions, without also remembering my reasons for them!\"\n",
    "]\n",
    "\n",
    "\n",
    "# prediction of 5 most probable set of chars.\n",
    "for q in quotes:\n",
    "    seq = q[:40].lower()\n",
    "    print(seq)\n",
    "\n",
    "    print(predict_completions(seq, 5))    \n",
    "    print('\\n')"
   ]
  },
  {
   "cell_type": "markdown",
   "metadata": {},
   "source": [
    "Apart from the fact that the completions look like proper words (remember, we are training our model on characters, not words), they look pretty reasonable as well! Perhaps better model and/or more training will provide even better results"
   ]
  },
  {
   "cell_type": "markdown",
   "metadata": {},
   "source": [
    "Ideas to improve the model: <br> 1 Remove all punctuation from the source text, and therefore from the models’ vocabulary. <br>\n",
    "2 Try a one hot encoded for the input sequences(allready done). <br>\n",
    "3 Train the model on padded sentences rather than random sequences of characters. <br>\n",
    "4 Increase the number of training epochs to 100 or many hundreds. <br>\n",
    "5 Add dropout to the visible input layer and consider tuning the dropout percentage. <br>\n",
    "6 Tune the batch size, try a batch size of 1 as a (very slow) baseline and larger sizes from there. <br>\n",
    "7 Add more memory units to the layers and/or more layers. Experiment with scale factors (temperature) when interpreting the prediction probabilities. <br>\n",
    "8 Change the LSTM layers to be “stateful” to maintain state across batches. <br>\n"
   ]
  },
  {
   "cell_type": "code",
   "execution_count": null,
   "metadata": {},
   "outputs": [],
   "source": []
  }
 ],
 "metadata": {
  "kernelspec": {
   "display_name": "Python 3",
   "language": "python",
   "name": "python3"
  },
  "language_info": {
   "codemirror_mode": {
    "name": "ipython",
    "version": 3
   },
   "file_extension": ".py",
   "mimetype": "text/x-python",
   "name": "python",
   "nbconvert_exporter": "python",
   "pygments_lexer": "ipython3",
   "version": "3.6.8"
  }
 },
 "nbformat": 4,
 "nbformat_minor": 2
}
